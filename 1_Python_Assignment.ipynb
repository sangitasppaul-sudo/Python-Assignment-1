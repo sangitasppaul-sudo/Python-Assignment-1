{
  "nbformat": 4,
  "nbformat_minor": 0,
  "metadata": {
    "colab": {
      "provenance": []
    },
    "kernelspec": {
      "name": "python3",
      "display_name": "Python 3"
    },
    "language_info": {
      "name": "python"
    }
  },
  "cells": [
    {
      "cell_type": "markdown",
      "source": [
        "Python Basic Assignment Question"
      ],
      "metadata": {
        "id": "fviPvtRGinkV"
      }
    },
    {
      "cell_type": "markdown",
      "source": [
        "1. What is Python, and why is it popular?\n",
        "  -  Python is a High-level, interpreted programming language known for its simplicity and readability. Large standard Library: Python comes with a comprehensive standard library that provides support for various tasks without the need for addirional installations. Versatility: Python is a general-purpose language, meaning it can be used for a wide range of applications, including web development, data analysis, artificial intelligence, machine learning, automatuon, scientific, computing. Easy to learn and read: Python emphasizea readability and simplicity, making it an excellent choice for beginners. its clean syntax reduces the cost of program maintence and development. Interpretation and compitation: Python is an interpreted language, which means code is executed line by line, making it easier to debug and test. However, Python can also be compiled into bytecode for impreved performance using tools like Pytnstaller, Cython or Nuitka. Dynamic typing: Python uses dynamic typing, meaning you don't need to declare variable tupes explicity. This flexibility allows for rapid development and prototypoing. Cummunity support: Python has a vast and active community of developers who contribute to its ecosystem by creating libaries, framework, and tools, This community support make it easy to find solutuons to problems, learn new technique, and collaborate on project.\n",
        "  - Python is Popular because--\n",
        "Easy to Learn & Readable- Simple syntax makes it beginner-friendly. Extensive Libraries & Frameworks- Huge collection of modules (like NumPy, Pandas, Matplotlib, TensorFlow, Django) saves time. Versatile & General Purpose- Used in web development, data science, AI/ML, automation, game development, IoT, scripting, etc. Cross-Platform & Open Source- Works on Windows, Mac, Linux without modification. Free and supported by a large community. Strong Community Support- Millions of developers, tutorials, and open-source contributions make problem-solving easier. Integration & Extensibility- Works well with other languages (C, C++, Java) and databases (SQL, MongoDB).\n",
        "2. What is an interpreter in Python?\n",
        "  - An interpreter in Python executes code line by line, making Python easier to debug, test, and run across multiple platforms without compilation. • An interpreter is a program that executes Python code line by line, instead of compiling the whole program at once. • Python is an interpreted language, which means code is directly executed by the interpreter without needing a separate compilation step. it Works- •You write Python code in a .py file. •The Python interpreter reads the code one line at a time. •It translates it into bytecode, which is then executed by the Python Virtual Machine (PVM). Advantages of Using an Interpreter • Easy debugging → Errors are caught immediately when that line is executed. • Cross-platform → Same Python code runs on Windows, Mac, Linux. • Interactive mode → You can test code quickly in the Python shell/IDLE.\n",
        "  3. What are pre-defined keywords in Python?\n",
        "  - Predefined keywords in Python are reserved words with special meaning, used to define the structure and flow of the program. Predefined Keywords in Python • Keywords are special reserved words in Python. • They have fixed meaning and purpose in the language. • We cannot use them as variable names, function names, or identifiers. • They help define the syntax and structure of Python programs. Examples of Keywords (Python 3.10+, 35 in total) False, True, None, and, or, not, if, elif, else, while, for, break, continue, pass, def, class, return, yield, lambda, try, except, finally, raise, assert, import, from, as, with, global, nonlocal, del, in, is, async, await. Use in Programs\n",
        "  using keywords\n",
        "    - def greet(): if True: return \"Hello\" else: pass\n",
        "\n",
        "    - print(greet()) # Output: Hello Here: • def → defines a function • if / else → conditional • return → sends value back • pass → placeholder\n",
        "4. Can keywords be used as variable names?\n",
        "  - Keywords cannot be used as variable names in Python because they are reserved for special purposes in the language syntax. • Keywords are reserved words in Python. • They have a special meaning and are used to define the syntax or logic of the program. • If you try to use a keyword as a variable name, Python will throw a SyntaxError. 🔹 Example Trying to use a keyword as a variable for = 10 print(for) 🔴 Error: SyntaxError: invalid syntax 🔹 Why Not Allowed? • Because - keywords already tell Python what action to perform (for, if, def, etc.). • If they were allowed as variable names, the interpreter would get confused between your variable and Python’s reserved meaning.\n",
        " 5.  What is mutability in Python?\n",
        "  - Mutability means whether an object’s value can be changed (modified) after it is created. • In Python, some data types are mutable (can change), while others are immutable (cannot change). 🔹 Mutable Objects • Values can be changed without changing the object’s identity (memory address). • Examples: list, dict, set, bytearray numbers = [1, 2, 3] print(id(numbers)) # memory address before numbers.append(4) # modify list print(numbers) # [1, 2, 3, 4] print(id(numbers)) # same memory address (mutable)\n",
        "\n",
        "🔹 Immutable Objects • Once created, values cannot be changed. • Any “change” creates a new object with a different memory address. • Examples: int, float, string, tuple, frozenset, bool x = \"hello\" print(id(x)) # memory address before x = x + \" world\" # creates a new string print(x) # hello world print(id(x)) # different memory address (immutable)\n",
        "\n",
        "Important - • Helps understand performance and memory usage. • Useful in data structures, hashing (dict keys, set elements), and program design. In short: Mutability in Python refers to whether an object’s value can be changed after creation. • Mutable: list, dict, set • Immutable: int, float, str, tuple\n",
        "6. Why are lists mutable, but tuples are immutable?\n",
        "  - Lists are designed to store collections of items that may change. • You can add, remove, or modify elements without creating a new list. • Internally, Python gives lists a dynamic memory structure that allows resizing and modification. Example: fruits = [\"apple\", \"banana\", \"cherry\"] fruits[1] = \"mango\" # modify element fruits.append(\"grape\") # add element print(fruits) # ['apple', 'mango', 'cherry', 'grape']\n",
        "\n",
        "- Tuples in Python are immutable because - • Tuples are designed to represent fixed collections of items. • Once created, their values cannot change (no add, remove, or update). • Internally, Python fixes the memory allocation of a tuple, making it safe for hashing (so tuples can be used as keys in dictionaries, unlike lists). 👉 Example: colors = (\"red\", \"green\", \"blue\")\n",
        "\n",
        "colors[1] = \"yellow\" # ❌ Error: 'tuple' object does not support item assignment\n",
        "Key Reason for the Difference • Lists → meant for dynamic data that changes. • Tuples → meant for static data that stays fixed. This design choice helps Python balance flexibility (lists) and safety/performance (tuples).\n",
        "\n",
        "7. What is the difference between ”==” and “is” operators in python?\n",
        "  - == Operator (Equality Operator) • Checks whether the values of two objects are equal. • It does not care about memory location, only compares contents. 👉 Example: x = [1, 2, 3] y = [1, 2, 3]\n",
        "\n",
        "print(x == y) # ✅ True (values are same) print(x is y) # ❌ False (different memory addresses)\n",
        "\n",
        "is Operator (Identity Operator) • Checks whether two variables point to the same object in memory. • In other words, it compares object identity, not content. 👉 Example: a = \"hello\" b = \"hello\"\n",
        "\n",
        "print(a == b) # ✅ True (same content) print(a is b) # ✅ True (sometimes same memory due to string interning)\n",
        "\n",
        "c = list([1, 2, 3]) d = list([1, 2, 3])\n",
        "\n",
        "print(c == d) # ✅ True (same values) print(c is d) # ❌ False (different objects in memory)\n",
        "\n",
        "Summary Table Operator Checks Example Result == Value Equality (same content) [1,2] == [1,2] → True is Identity Equality (same memory location) [1,2] is [1,2] → False\n",
        "\n",
        "8. What are logical operators in Python?\n",
        "  - Logical Operators in Python Logical operators are used to combine conditional statements and return Boolean values (True or False). Python has three logical operators:\n",
        "\n",
        "and • Returns True if both conditions are True. • Otherwise, returns False. x = 5 print(x > 0 and x < 10) # True (both conditions are True) print(x > 0 and x > 10) # False (second condition is False)\n",
        "or • Returns True if at least one condition is True. • Returns False only if both conditions are False. x = 5 print(x < 0 or x > 0) # True (second condition is True) print(x < 0 or x < 3) # False (both False)\n",
        "not • Returns the opposite of the Boolean value. • True → False, False → True x = True y = False print(not x) # False print(not y) # True\n",
        "Truth Table Summary A B A and B A or B not A True True True True False True False False True False False True False True True False False False False True\n",
        "\n",
        "9. What is type casting in Python?\n",
        "  - ** Type Casting in Python is:** • Type casting (or type conversion) means converting a variable from one data type to another. • It allows you to perform operations between different types of data. Python supports two types of type casting:\n",
        "\n",
        "Implicit Type Casting (Automatic) • Done automatically by Python. • Converts smaller data type → larger data type to avoid data loss. a = 5 # int b = 2.5 # float c = a + b # int + float → float automatically print(c) # 7.5 print(type(c)) # <class 'float'>\n",
        "Explicit Type Casting (Manual) • Done manually by the programmer using built-in functions: Function Converts To Example int(x) Integer int(3.7) → 3 float(x) Float float(5) → 5.0 str(x) String str(25) → \"25\" list(x) List list((1,2)) → [1,2] tuple(x) Tuple tuple([1,2]) → (1,2) set(x) Set set([1,2,2]) → {1,2} x = \"100\" y = int(x) # string → int z = float(y) # int → float print(y, type(y)) # 100 <class 'int'> print(z, type(z)) # 100.0 <class 'float'>\n",
        "• Implicit casting → automatic, done by Python • Explicit casting → manual, done using functions like int(), float(), str(), etc.\n",
        "\n",
        "10. What is the difference between implicit and explicit type casting?\n",
        "  - Difference Between Implicit and Explicit Type Casting in Python\n",
        "\n",
        "Feature - Implicit Type Casting - Explicit Type Casting\n",
        "Who Performs -Done automatically || by Python Done manually by the programmer Control- No control by programmer || Programmer has full control Purpose - Convert smaller data type → larger type safely || Convert data type manually as needed Risk of Data Loss- No risk of data loss || May cause data loss if not careful Example- a = 5; b = 2.5; c = a + b → 7.5 || x = \"10\"; y = int(x) → 10 Type of Conversion - Automatic, safe || Manual, explicit\n",
        "\n",
        "Key Points • Implicit casting → Python decides the conversion to prevent errors. • Explicit casting → Programmer decides when and how to convert. In short • Implicit = automatic, safe, no programmer intervention • Explicit = manual, programmer decides, may need caution\n",
        "\n",
        "11. What is the purpose of conditional statements in Python?\n",
        "  - Purpose of Conditional Statements in Python Conditional statements allow the program to make decisions and execute certain blocks of code only if specific conditions are met. In Python, these include: • if • elif • else\n",
        "\n",
        "Key Purposes 1. Decision Making • Conditional statements help the program choose different paths based on certain conditions. age = 18 if age >= 18: print(\"You can vote\") else: print(\"You cannot vote\") 2. Control Program Flow • They allow selective execution of code instead of running everything sequentially. 3. Implement Real-World Logic • Used to implement business rules, validations, and logic like login authentication, discounts, etc. 4. Reduce Redundancy • Avoids writing separate code for every possible case by handling multiple scenarios in a single structure.\n",
        "\n",
        "12. How does the Elif statement work?\n",
        "  - elif in Python is • elif stands for “else if”. • It is used in conditional statements to check multiple conditions after an initial if. • If the if condition is False, Python checks the elif condition(s) in order. • If an elif condition is True, its block executes, and Python skips the rest.\n",
        "\n",
        "** Syntax** if condition1: # execute block1 elif condition2: # execute block2 elif condition3: # execute block3 else: # execute block4 • You can have multiple elif blocks. • The else block is optional and executes if all previous conditions are False.\n",
        "\n",
        "Example marks = 75\n",
        "\n",
        "if marks >= 90: print(\"Grade A\") elif marks >= 75: print(\"Grade B\") elif marks >= 60: print(\"Grade C\") else: print(\"Fail\") Output: Grade B • if marks >= 90 → False • elif marks >= 75 → True → Executes this block • Remaining elif and else → Skipped\n",
        "\n",
        "13. What is the difference between for and while loops?\n",
        "  - Sure! Here’s a short and clear difference: Feature - for loop - while loop Usage: When number of iterations is known or iterating over a sequence || When number of iterations is unknown and depends on a condition Control: Controlled by a sequence (list, range, string)|| Controlled by a condition (True/False) Termination: Ends when sequence is exhausted || Ends when condition becomes False Example: for i in range(5): print(i) ||while i < 5: print(i) **In short: **for loop → sequence-based, known iterations ||while loop → condition-based, unknown iterations\n",
        "\n",
        "14. Describe a scenario where a while loop is more suitable than a for loop.\n",
        "  - Scenario Where while Loop is More Suitable A while loop is ideal when the number of iterations is not known in advance and depends on a condition.\n",
        "\n",
        "Example Scenario: User Login Attempts password = \"secret\" attempt = \"\" tries = 0\n",
        "\n",
        "while attempt != password and tries < 3: attempt = input(\"Enter password: \") tries += 1\n",
        "\n",
        "if attempt == password: print(\"Login successful!\") else: print(\"Account locked after 3 failed attempts.\") Explanation: • We don’t know how many times the user will enter the wrong password. • The loop continues until the correct password is entered or maximum attempts reached. • A for loop is not suitable because the number of iterations is not predetermined. • Use a while loop when iteration depends on a dynamic condition, not a fixed sequence."
      ],
      "metadata": {
        "id": "8B590iIPixin"
      }
    },
    {
      "cell_type": "markdown",
      "source": [
        "Practical Questions"
      ],
      "metadata": {
        "id": "84XTZPIAmtfc"
      }
    },
    {
      "cell_type": "code",
      "source": [
        "# 1. Write a Python program to print “Hello, World!”\n",
        "print(\"Hello, World!\")"
      ],
      "metadata": {
        "colab": {
          "base_uri": "https://localhost:8080/"
        },
        "id": "Y_nDxtZpmxHy",
        "outputId": "a3d86b31-65a2-4c76-8f65-8624cfd050a0"
      },
      "execution_count": 1,
      "outputs": [
        {
          "output_type": "stream",
          "name": "stdout",
          "text": [
            "Hello, World!\n"
          ]
        }
      ]
    },
    {
      "cell_type": "code",
      "source": [
        "# 2. Write a Python program that displays your name and age.\n",
        "name = \"Sangita Paul\"\n",
        "age = 25\n",
        "\n",
        "print(\"My name is\", name)\n",
        "print(\"I am\", age, \"years old\")"
      ],
      "metadata": {
        "colab": {
          "base_uri": "https://localhost:8080/"
        },
        "id": "wx_1E6R1nsDU",
        "outputId": "f26c6d28-4a7d-4423-a2ef-e8e051fc4cc6"
      },
      "execution_count": 2,
      "outputs": [
        {
          "output_type": "stream",
          "name": "stdout",
          "text": [
            "My name is Sangita Paul\n",
            "I am 25 years old\n"
          ]
        }
      ]
    },
    {
      "cell_type": "code",
      "source": [
        "# 3. Write code to print all the pre-defined keywords in python using the keyword library.\n",
        "import keyword\n",
        "\n",
        "print(\"Python Keywords:\")\n",
        "for kw in keyword.kwlist:\n",
        "    print(kw)"
      ],
      "metadata": {
        "colab": {
          "base_uri": "https://localhost:8080/"
        },
        "id": "r9o--WWSn7UG",
        "outputId": "f2f4b492-7cbf-4cc0-c1b2-c536b901a3e4"
      },
      "execution_count": 15,
      "outputs": [
        {
          "output_type": "stream",
          "name": "stdout",
          "text": [
            "Python Keywords:\n",
            "False\n",
            "None\n",
            "True\n",
            "and\n",
            "as\n",
            "assert\n",
            "async\n",
            "await\n",
            "break\n",
            "class\n",
            "continue\n",
            "def\n",
            "del\n",
            "elif\n",
            "else\n",
            "except\n",
            "finally\n",
            "for\n",
            "from\n",
            "global\n",
            "if\n",
            "import\n",
            "in\n",
            "is\n",
            "lambda\n",
            "nonlocal\n",
            "not\n",
            "or\n",
            "pass\n",
            "raise\n",
            "return\n",
            "try\n",
            "while\n",
            "with\n",
            "yield\n"
          ]
        }
      ]
    },
    {
      "cell_type": "code",
      "source": [
        "# 4. Write a program that checks if a given word is a Python keyword.\n",
        "import keyword\n",
        "\n",
        "word = input(\"Enter a word: \")\n",
        "\n",
        "if keyword.iskeyword(word):\n",
        "    print(f\"'{word}' is a Python keyword ✅\")\n",
        "else:\n",
        "    print(f\"'{word}' is NOT a Python keyword ❌\")"
      ],
      "metadata": {
        "colab": {
          "base_uri": "https://localhost:8080/"
        },
        "id": "Vtjm4d4_oVot",
        "outputId": "3c03bb44-4464-448c-844c-2f574fa01119"
      },
      "execution_count": 17,
      "outputs": [
        {
          "output_type": "stream",
          "name": "stdout",
          "text": [
            "Enter a word: try\n",
            "'try' is a Python keyword ✅\n"
          ]
        }
      ]
    },
    {
      "cell_type": "code",
      "source": [
        "# 5. Create a list and tuple in Python, and demonstrate how attempting to change an element works differently for each.\n",
        "\n",
        "# Creating a list\n",
        "my_list = [10, 20, 30, 40]\n",
        "print(\"Original List:\", my_list)\n",
        "# Changing an element in the list\n",
        "my_list[1] = 200\n",
        "print(\"Modified List:\", my_list)"
      ],
      "metadata": {
        "colab": {
          "base_uri": "https://localhost:8080/"
        },
        "id": "DfpMpMqSraN7",
        "outputId": "3b91402a-a0f1-44b3-82b9-a636ee337849"
      },
      "execution_count": 21,
      "outputs": [
        {
          "output_type": "stream",
          "name": "stdout",
          "text": [
            "Original List: [10, 20, 30, 40]\n",
            "Modified List: [10, 200, 30, 40]\n"
          ]
        }
      ]
    },
    {
      "cell_type": "code",
      "source": [
        "# 6. Write a function to demonstrate the behaviour of mutable and immutable arguments.\n",
        "num = 5                 # Immutable\n",
        "my_list = [1, 2, 3]     # Mutable\n",
        "\n",
        "print(\"Before function call:\")\n",
        "print(\"num =\", num)\n",
        "print(\"my_list =\", my_list)"
      ],
      "metadata": {
        "colab": {
          "base_uri": "https://localhost:8080/"
        },
        "id": "Jj_XYPnTrp5-",
        "outputId": "af9293c2-a5d1-458e-922d-1b1d56525ebf"
      },
      "execution_count": 25,
      "outputs": [
        {
          "output_type": "stream",
          "name": "stdout",
          "text": [
            "Before function call:\n",
            "num = 5\n",
            "my_list = [1, 2, 3]\n"
          ]
        }
      ]
    },
    {
      "cell_type": "code",
      "source": [
        "# 7. Write a program the performs basic arithmetic operations on two user-input number.\n",
        "\n",
        "num1 = float(input(\"Enter the first number: \"))\n",
        "num2 = float(input(\"Enter the second number: \"))\n",
        "\n",
        "addition = num1 + num2\n",
        "subtraction = num1 - num2\n",
        "multiplication = num1 * num2\n",
        "print(addition)\n",
        "print(subtraction)\n",
        "print(multiplication)"
      ],
      "metadata": {
        "colab": {
          "base_uri": "https://localhost:8080/"
        },
        "id": "ADZ2F7thsMVm",
        "outputId": "76a928e5-9fdd-4c5a-a414-7649a419c51f"
      },
      "execution_count": 28,
      "outputs": [
        {
          "output_type": "stream",
          "name": "stdout",
          "text": [
            "Enter the first number: 5\n",
            "Enter the second number: 8\n",
            "13.0\n",
            "-3.0\n",
            "40.0\n"
          ]
        }
      ]
    },
    {
      "cell_type": "code",
      "source": [
        "# 8. Write a program to demonstrate the use of logical operator.\n",
        "a = int(input(\"Enter first number: \"))\n",
        "b = int(input(\"Enter second number: \"))\n",
        "\n",
        "# Using 'and' operator\n",
        "print(f\"(a > 0) and (b > 0): {(a > 0) and (b > 0)}\")\n",
        "\n",
        "# Using 'or' operator\n",
        "print(f\"(a > 0) or (b > 0): {(a > 0) or (b > 0)}\")\n",
        "\n",
        "# Using 'not' operator\n",
        "print(f\"not(a > 0): {not(a > 0)}\")"
      ],
      "metadata": {
        "colab": {
          "base_uri": "https://localhost:8080/"
        },
        "id": "kMVkzb7Hs0AT",
        "outputId": "16a3eb86-18bf-4037-bb69-84b1102ad437"
      },
      "execution_count": 31,
      "outputs": [
        {
          "output_type": "stream",
          "name": "stdout",
          "text": [
            "Enter first number: 6\n",
            "Enter second number: 9\n",
            "(a > 0) and (b > 0): True\n",
            "(a > 0) or (b > 0): True\n",
            "not(a > 0): False\n"
          ]
        }
      ]
    },
    {
      "cell_type": "code",
      "source": [
        "# 9. Write a Python program to convert user input from string to integer, float, and Boolean types.\n",
        "user_input = input(\"Enter a value: \")\n",
        "\n",
        "print(f\"String: {user_input} (type: {type(user_input)})\")\n",
        "\n",
        "bool_value = bool(user_input)\n",
        "print(f\"Boolean: {bool_value} (type: {type(bool_value)})\")\n",
        "\n",
        "# Convert to Boolean\n",
        "bool_value = bool(user_input)   # Empty string = False, otherwise True\n",
        "print(f\"Boolean: {bool_value} (type: {type(bool_value)})\")"
      ],
      "metadata": {
        "colab": {
          "base_uri": "https://localhost:8080/"
        },
        "id": "323AyTdTtK07",
        "outputId": "391879dc-de5a-482a-cf54-71efc29c2868"
      },
      "execution_count": 35,
      "outputs": [
        {
          "output_type": "stream",
          "name": "stdout",
          "text": [
            "Enter a value: 6\n",
            "String: 6 (type: <class 'str'>)\n",
            "Boolean: True (type: <class 'bool'>)\n",
            "Boolean: True (type: <class 'bool'>)\n"
          ]
        }
      ]
    },
    {
      "cell_type": "code",
      "source": [
        "# 10. Write code to demonstrate type casting with list elements.\n",
        "\n",
        "string_list = [\"10\", \"20\", \"30\", \"40\", \"50\"]\n",
        "print(\"Original list (strings):\", string_list)\n",
        "\n",
        "# Converting list elements from string to integer\n",
        "int_list = [int(x) for x in string_list]\n",
        "print(\"After converting to integers:\", int_list)\n",
        "\n",
        "# Converting list elements from string to float\n",
        "float_list = [float(x) for x in string_list]\n",
        "print(\"After converting to floats:\", float_list)\n",
        "\n",
        "# Converting list elements to boolean\n",
        "bool_list = [bool(x) for x in string_list]\n",
        "print(\"After converting to booleans:\", bool_list)"
      ],
      "metadata": {
        "colab": {
          "base_uri": "https://localhost:8080/"
        },
        "id": "xXMUhRzXte8l",
        "outputId": "d9f33bfb-3d23-4e81-9287-1520384876e9"
      },
      "execution_count": 37,
      "outputs": [
        {
          "output_type": "stream",
          "name": "stdout",
          "text": [
            "Original list (strings): ['10', '20', '30', '40', '50']\n",
            "After converting to integers: [10, 20, 30, 40, 50]\n",
            "After converting to floats: [10.0, 20.0, 30.0, 40.0, 50.0]\n",
            "After converting to booleans: [True, True, True, True, True]\n"
          ]
        }
      ]
    },
    {
      "cell_type": "code",
      "source": [
        "# 11.Write a program that checks if a number is positive, negative, or zero.\n",
        "num = float(input(\"Enter a number: \"))\n",
        "\n",
        "if num > 0:\n",
        "    print(f\"{num} is Positive.\")\n",
        "elif num < 0:\n",
        "    print(f\"{num} is Negative.\")\n",
        "else:\n",
        "    print(\"The number is Zero.\")"
      ],
      "metadata": {
        "colab": {
          "base_uri": "https://localhost:8080/"
        },
        "id": "m9MtKHy4t175",
        "outputId": "be091dab-484b-454f-d961-632ecbb43bf8"
      },
      "execution_count": 39,
      "outputs": [
        {
          "output_type": "stream",
          "name": "stdout",
          "text": [
            "Enter a number: -9\n",
            "-9.0 is Negative.\n"
          ]
        }
      ]
    },
    {
      "cell_type": "code",
      "source": [
        "# 12.Write a for loop to print numbers from 1 to 10.\n",
        "for i in range(1, 11):\n",
        "    print(i)"
      ],
      "metadata": {
        "colab": {
          "base_uri": "https://localhost:8080/"
        },
        "id": "qmOQFCaruH9Y",
        "outputId": "161b43db-2d48-47e7-f586-eaa51ace070d"
      },
      "execution_count": 40,
      "outputs": [
        {
          "output_type": "stream",
          "name": "stdout",
          "text": [
            "1\n",
            "2\n",
            "3\n",
            "4\n",
            "5\n",
            "6\n",
            "7\n",
            "8\n",
            "9\n",
            "10\n"
          ]
        }
      ]
    },
    {
      "cell_type": "code",
      "source": [
        "# 13. Write a Python program to find the sum of all even numbers between 1 and 50.\n",
        "sum_even = sum(range(2, 51, 2))\n",
        "\n",
        "print(\"The sum of all even numbers between 1 and 50 is:\", sum_even)"
      ],
      "metadata": {
        "colab": {
          "base_uri": "https://localhost:8080/"
        },
        "id": "bdoHY23BuQs2",
        "outputId": "99b08c21-9d81-4dd9-b73b-f6fd4e1dc966"
      },
      "execution_count": 41,
      "outputs": [
        {
          "output_type": "stream",
          "name": "stdout",
          "text": [
            "The sum of all even numbers between 1 and 50 is: 650\n"
          ]
        }
      ]
    },
    {
      "cell_type": "code",
      "source": [
        "# 14. Write a program to reverse a string using a while loop.\n",
        "text = input(\"Enter a string: \")\n",
        "\n",
        "reversed_text = \"\"\n",
        "index = len(text) - 1\n",
        "\n",
        "while index >= 0:\n",
        "    reversed_text += text[index]\n",
        "    index -= 1\n",
        "\n",
        "print(\"Reversed string:\", reversed_text)"
      ],
      "metadata": {
        "colab": {
          "base_uri": "https://localhost:8080/"
        },
        "id": "fFc6mXx5uWx6",
        "outputId": "9ae3b96c-20cd-4fb7-da35-e10bd742a3c3"
      },
      "execution_count": 44,
      "outputs": [
        {
          "output_type": "stream",
          "name": "stdout",
          "text": [
            "Enter a string: 8\n",
            "Reversed string: 8\n"
          ]
        }
      ]
    },
    {
      "cell_type": "code",
      "source": [
        "# 15. Write a Python program to calculate the factorial of a number provided by the user using a while loop.\n",
        "num = int(input(\"Enter a non-negative integer: \"))\n",
        "\n",
        "print(\"Invalid input! Please enter an integer.\")\n",
        "\n",
        "if num < 0:\n",
        "    print(\"Factorial is not defined for negative numbers.\")\n",
        "else:\n",
        "    factorial = 1\n",
        "    counter = num\n",
        "\n",
        "while counter > 0:\n",
        "        factorial *= counter\n",
        "        counter -= 1\n",
        "\n",
        "print(f\"The factorial of {num} is: {factorial}\")"
      ],
      "metadata": {
        "colab": {
          "base_uri": "https://localhost:8080/"
        },
        "id": "B2YQDVa1udOO",
        "outputId": "233f7f25-4418-4b56-a324-a408beb858a3"
      },
      "execution_count": 46,
      "outputs": [
        {
          "output_type": "stream",
          "name": "stdout",
          "text": [
            "Enter a non-negative integer: 8\n",
            "Invalid input! Please enter an integer.\n",
            "The factorial of 8 is: 40320\n"
          ]
        }
      ]
    },
    {
      "cell_type": "code",
      "source": [],
      "metadata": {
        "id": "smpGu3B0u7hj"
      },
      "execution_count": null,
      "outputs": []
    }
  ]
}